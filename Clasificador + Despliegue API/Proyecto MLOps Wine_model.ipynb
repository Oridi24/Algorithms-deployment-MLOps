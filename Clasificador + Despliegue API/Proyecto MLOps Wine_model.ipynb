{
  "cells": [
    {
      "cell_type": "markdown",
      "metadata": {},
      "source": [
        "# *Clasificación con Scikit-learn y MLflow*\n",
        "\n",
        "---"
      ]
    },
    {
      "cell_type": "markdown",
      "metadata": {},
      "source": [
        "### *1era Parte: Análisis de Datos con Scikit-Learn*\n",
        "\n",
        "*El Análisis Estadístico Exploratorio (EDA) busca entender la estructura, patrones y comportamiento de los datos antes de aplicar modelos. No se trata solo de observar \"números\", sino de comprender el contexto y calidad de los datos, anticiparse a posibles problemas (outliers, sesgos, valores faltantes, etc.) y tomar decisiones más informadas durante la limpieza, transformación y modelado.*\n",
        "\n",
        "1. ***Carga del Conjunto de Datos:*** *Se carga el conjunto de datos de cáncer de mama utilizando la función `load_wine` de Scikit-Learn.* \n",
        "    \n",
        "2. ***Creación de un DataFrame:*** *Se crea un DataFrame utilizando los datos del conjunto de datos, asignando las características a las columnas y la variable objetivo ('target') a una columna adicional.* \n",
        "   \n",
        "3. ***Visualización de los Primeros Registros:***  *Se muestra una vista previa de los primeros registros del DataFrame para obtener una comprensión inicial de los datos.*   \n",
        "   \n",
        "4. ***Dimensiones del DataFrame:*** *Se imprime la forma del DataFrame para conocer el número de filas y columnas en los datos.*\n",
        "   \n",
        "5. ***Estadísticas Descriptivas:*** *Se proporcionan estadísticas descriptivas del DataFrame, incluyendo conteos, medias, desviaciones estándar, mínimos y máximos.*\n",
        "   \n",
        "6. ***Nombres de Columnas:*** *Se muestran los nombres de las columnas presentes en el DataFrame.*\n",
        "\n",
        "\n"
      ]
    },
    {
      "cell_type": "code",
      "execution_count": 3,
      "metadata": {},
      "outputs": [],
      "source": [
        "import pandas as pd \n",
        "import numpy as np \n",
        "import mlflow \n",
        "import matplotlib.pyplot as plt\n",
        "\n",
        "from sklearn.model_selection import train_test_split\n",
        "from sklearn.ensemble import RandomForestClassifier\n",
        "\n",
        "from sklearn.pipeline import Pipeline\n",
        "from sklearn.preprocessing import StandardScaler\n"
      ]
    },
    {
      "cell_type": "code",
      "execution_count": 4,
      "metadata": {},
      "outputs": [],
      "source": [
        "from sklearn.datasets import load_wine\n",
        "wine = load_wine()"
      ]
    },
    {
      "cell_type": "code",
      "execution_count": 5,
      "metadata": {},
      "outputs": [
        {
          "data": {
            "text/plain": [
              "{'data': array([[1.423e+01, 1.710e+00, 2.430e+00, ..., 1.040e+00, 3.920e+00,\n",
              "         1.065e+03],\n",
              "        [1.320e+01, 1.780e+00, 2.140e+00, ..., 1.050e+00, 3.400e+00,\n",
              "         1.050e+03],\n",
              "        [1.316e+01, 2.360e+00, 2.670e+00, ..., 1.030e+00, 3.170e+00,\n",
              "         1.185e+03],\n",
              "        ...,\n",
              "        [1.327e+01, 4.280e+00, 2.260e+00, ..., 5.900e-01, 1.560e+00,\n",
              "         8.350e+02],\n",
              "        [1.317e+01, 2.590e+00, 2.370e+00, ..., 6.000e-01, 1.620e+00,\n",
              "         8.400e+02],\n",
              "        [1.413e+01, 4.100e+00, 2.740e+00, ..., 6.100e-01, 1.600e+00,\n",
              "         5.600e+02]]),\n",
              " 'target': array([0, 0, 0, 0, 0, 0, 0, 0, 0, 0, 0, 0, 0, 0, 0, 0, 0, 0, 0, 0, 0, 0,\n",
              "        0, 0, 0, 0, 0, 0, 0, 0, 0, 0, 0, 0, 0, 0, 0, 0, 0, 0, 0, 0, 0, 0,\n",
              "        0, 0, 0, 0, 0, 0, 0, 0, 0, 0, 0, 0, 0, 0, 0, 1, 1, 1, 1, 1, 1, 1,\n",
              "        1, 1, 1, 1, 1, 1, 1, 1, 1, 1, 1, 1, 1, 1, 1, 1, 1, 1, 1, 1, 1, 1,\n",
              "        1, 1, 1, 1, 1, 1, 1, 1, 1, 1, 1, 1, 1, 1, 1, 1, 1, 1, 1, 1, 1, 1,\n",
              "        1, 1, 1, 1, 1, 1, 1, 1, 1, 1, 1, 1, 1, 1, 1, 1, 1, 1, 1, 1, 2, 2,\n",
              "        2, 2, 2, 2, 2, 2, 2, 2, 2, 2, 2, 2, 2, 2, 2, 2, 2, 2, 2, 2, 2, 2,\n",
              "        2, 2, 2, 2, 2, 2, 2, 2, 2, 2, 2, 2, 2, 2, 2, 2, 2, 2, 2, 2, 2, 2,\n",
              "        2, 2]),\n",
              " 'frame': None,\n",
              " 'target_names': array(['class_0', 'class_1', 'class_2'], dtype='<U7'),\n",
              " 'DESCR': '.. _wine_dataset:\\n\\nWine recognition dataset\\n------------------------\\n\\n**Data Set Characteristics:**\\n\\n:Number of Instances: 178\\n:Number of Attributes: 13 numeric, predictive attributes and the class\\n:Attribute Information:\\n    - Alcohol\\n    - Malic acid\\n    - Ash\\n    - Alcalinity of ash\\n    - Magnesium\\n    - Total phenols\\n    - Flavanoids\\n    - Nonflavanoid phenols\\n    - Proanthocyanins\\n    - Color intensity\\n    - Hue\\n    - OD280/OD315 of diluted wines\\n    - Proline\\n    - class:\\n        - class_0\\n        - class_1\\n        - class_2\\n\\n:Summary Statistics:\\n\\n============================= ==== ===== ======= =====\\n                                Min   Max   Mean     SD\\n============================= ==== ===== ======= =====\\nAlcohol:                      11.0  14.8    13.0   0.8\\nMalic Acid:                   0.74  5.80    2.34  1.12\\nAsh:                          1.36  3.23    2.36  0.27\\nAlcalinity of Ash:            10.6  30.0    19.5   3.3\\nMagnesium:                    70.0 162.0    99.7  14.3\\nTotal Phenols:                0.98  3.88    2.29  0.63\\nFlavanoids:                   0.34  5.08    2.03  1.00\\nNonflavanoid Phenols:         0.13  0.66    0.36  0.12\\nProanthocyanins:              0.41  3.58    1.59  0.57\\nColour Intensity:              1.3  13.0     5.1   2.3\\nHue:                          0.48  1.71    0.96  0.23\\nOD280/OD315 of diluted wines: 1.27  4.00    2.61  0.71\\nProline:                       278  1680     746   315\\n============================= ==== ===== ======= =====\\n\\n:Missing Attribute Values: None\\n:Class Distribution: class_0 (59), class_1 (71), class_2 (48)\\n:Creator: R.A. Fisher\\n:Donor: Michael Marshall (MARSHALL%PLU@io.arc.nasa.gov)\\n:Date: July, 1988\\n\\nThis is a copy of UCI ML Wine recognition datasets.\\nhttps://archive.ics.uci.edu/ml/machine-learning-databases/wine/wine.data\\n\\nThe data is the results of a chemical analysis of wines grown in the same\\nregion in Italy by three different cultivators. There are thirteen different\\nmeasurements taken for different constituents found in the three types of\\nwine.\\n\\nOriginal Owners:\\n\\nForina, M. et al, PARVUS -\\nAn Extendible Package for Data Exploration, Classification and Correlation.\\nInstitute of Pharmaceutical and Food Analysis and Technologies,\\nVia Brigata Salerno, 16147 Genoa, Italy.\\n\\nCitation:\\n\\nLichman, M. (2013). UCI Machine Learning Repository\\n[https://archive.ics.uci.edu/ml]. Irvine, CA: University of California,\\nSchool of Information and Computer Science.\\n\\n.. dropdown:: References\\n\\n    (1) S. Aeberhard, D. Coomans and O. de Vel,\\n    Comparison of Classifiers in High Dimensional Settings,\\n    Tech. Rep. no. 92-02, (1992), Dept. of Computer Science and Dept. of\\n    Mathematics and Statistics, James Cook University of North Queensland.\\n    (Also submitted to Technometrics).\\n\\n    The data was used with many others for comparing various\\n    classifiers. The classes are separable, though only RDA\\n    has achieved 100% correct classification.\\n    (RDA : 100%, QDA 99.4%, LDA 98.9%, 1NN 96.1% (z-transformed data))\\n    (All results using the leave-one-out technique)\\n\\n    (2) S. Aeberhard, D. Coomans and O. de Vel,\\n    \"THE CLASSIFICATION PERFORMANCE OF RDA\"\\n    Tech. Rep. no. 92-01, (1992), Dept. of Computer Science and Dept. of\\n    Mathematics and Statistics, James Cook University of North Queensland.\\n    (Also submitted to Journal of Chemometrics).\\n',\n",
              " 'feature_names': ['alcohol',\n",
              "  'malic_acid',\n",
              "  'ash',\n",
              "  'alcalinity_of_ash',\n",
              "  'magnesium',\n",
              "  'total_phenols',\n",
              "  'flavanoids',\n",
              "  'nonflavanoid_phenols',\n",
              "  'proanthocyanins',\n",
              "  'color_intensity',\n",
              "  'hue',\n",
              "  'od280/od315_of_diluted_wines',\n",
              "  'proline']}"
            ]
          },
          "execution_count": 5,
          "metadata": {},
          "output_type": "execute_result"
        }
      ],
      "source": [
        "wine"
      ]
    },
    {
      "cell_type": "markdown",
      "metadata": {},
      "source": [
        "📌 *¿Se pueden usar los datos sin DataFrame?: Sí, se pueden usar los datos directamente como arrays de NumPy (como hace scikit-learn por defecto).*\n",
        "\n",
        "***Ventajas de usar pandas.DataFrame:***          \n",
        "|      Ventaja                      |  Explicación                                                                                 |\n",
        "| ----------------------------------| -----------------------------------------------------------------------------------------------------------------------------------------|\n",
        "| *Legibilidad*                 | *Acceder a nombres de columnas, índices y estructuras tabulares similares a una tabla de Excel. Mucho más fácil de leer que un array.*   |\n",
        "| *Análisis Exploratorio (EDA)* | *Permite usar `.describe()`, `.value_counts()`, `.groupby()`, `.isna()`, etc., para entender tus datos rápidamente.*                      |\n",
        "| *Integración con bibliotecas* | *Funciona perfectamente con `seaborn`, `matplotlib`, `scikit-learn`, etc. Muchas funciones aceptan directamente `DataFrames`.*           |\n",
        "| *Carga/guardado de datos*     | *Muy fácil leer y escribir archivos CSV, Excel, JSON, etc., con `read_csv()` y `to_csv()`.*                                              |\n",
        "| *Limpieza de datos*         | *Es ideal para eliminar nulos, reemplazar valores, convertir tipos de datos, escalar, codificar categorías, etc.*                        |\n"
      ]
    },
    {
      "cell_type": "code",
      "execution_count": 6,
      "metadata": {},
      "outputs": [],
      "source": [
        "df = pd.DataFrame(wine.data, columns=wine.feature_names)"
      ]
    },
    {
      "cell_type": "code",
      "execution_count": 13,
      "metadata": {},
      "outputs": [
        {
          "data": {
            "text/html": [
              "<div>\n",
              "<style scoped>\n",
              "    .dataframe tbody tr th:only-of-type {\n",
              "        vertical-align: middle;\n",
              "    }\n",
              "\n",
              "    .dataframe tbody tr th {\n",
              "        vertical-align: top;\n",
              "    }\n",
              "\n",
              "    .dataframe thead th {\n",
              "        text-align: right;\n",
              "    }\n",
              "</style>\n",
              "<table border=\"1\" class=\"dataframe\">\n",
              "  <thead>\n",
              "    <tr style=\"text-align: right;\">\n",
              "      <th></th>\n",
              "      <th>0</th>\n",
              "      <th>1</th>\n",
              "      <th>2</th>\n",
              "      <th>3</th>\n",
              "      <th>4</th>\n",
              "    </tr>\n",
              "  </thead>\n",
              "  <tbody>\n",
              "    <tr>\n",
              "      <th>alcohol</th>\n",
              "      <td>14.23</td>\n",
              "      <td>13.20</td>\n",
              "      <td>13.16</td>\n",
              "      <td>14.37</td>\n",
              "      <td>13.24</td>\n",
              "    </tr>\n",
              "    <tr>\n",
              "      <th>malic_acid</th>\n",
              "      <td>1.71</td>\n",
              "      <td>1.78</td>\n",
              "      <td>2.36</td>\n",
              "      <td>1.95</td>\n",
              "      <td>2.59</td>\n",
              "    </tr>\n",
              "    <tr>\n",
              "      <th>ash</th>\n",
              "      <td>2.43</td>\n",
              "      <td>2.14</td>\n",
              "      <td>2.67</td>\n",
              "      <td>2.50</td>\n",
              "      <td>2.87</td>\n",
              "    </tr>\n",
              "    <tr>\n",
              "      <th>alcalinity_of_ash</th>\n",
              "      <td>15.60</td>\n",
              "      <td>11.20</td>\n",
              "      <td>18.60</td>\n",
              "      <td>16.80</td>\n",
              "      <td>21.00</td>\n",
              "    </tr>\n",
              "    <tr>\n",
              "      <th>magnesium</th>\n",
              "      <td>127.00</td>\n",
              "      <td>100.00</td>\n",
              "      <td>101.00</td>\n",
              "      <td>113.00</td>\n",
              "      <td>118.00</td>\n",
              "    </tr>\n",
              "    <tr>\n",
              "      <th>total_phenols</th>\n",
              "      <td>2.80</td>\n",
              "      <td>2.65</td>\n",
              "      <td>2.80</td>\n",
              "      <td>3.85</td>\n",
              "      <td>2.80</td>\n",
              "    </tr>\n",
              "    <tr>\n",
              "      <th>flavanoids</th>\n",
              "      <td>3.06</td>\n",
              "      <td>2.76</td>\n",
              "      <td>3.24</td>\n",
              "      <td>3.49</td>\n",
              "      <td>2.69</td>\n",
              "    </tr>\n",
              "    <tr>\n",
              "      <th>nonflavanoid_phenols</th>\n",
              "      <td>0.28</td>\n",
              "      <td>0.26</td>\n",
              "      <td>0.30</td>\n",
              "      <td>0.24</td>\n",
              "      <td>0.39</td>\n",
              "    </tr>\n",
              "    <tr>\n",
              "      <th>proanthocyanins</th>\n",
              "      <td>2.29</td>\n",
              "      <td>1.28</td>\n",
              "      <td>2.81</td>\n",
              "      <td>2.18</td>\n",
              "      <td>1.82</td>\n",
              "    </tr>\n",
              "    <tr>\n",
              "      <th>color_intensity</th>\n",
              "      <td>5.64</td>\n",
              "      <td>4.38</td>\n",
              "      <td>5.68</td>\n",
              "      <td>7.80</td>\n",
              "      <td>4.32</td>\n",
              "    </tr>\n",
              "    <tr>\n",
              "      <th>hue</th>\n",
              "      <td>1.04</td>\n",
              "      <td>1.05</td>\n",
              "      <td>1.03</td>\n",
              "      <td>0.86</td>\n",
              "      <td>1.04</td>\n",
              "    </tr>\n",
              "    <tr>\n",
              "      <th>od280/od315_of_diluted_wines</th>\n",
              "      <td>3.92</td>\n",
              "      <td>3.40</td>\n",
              "      <td>3.17</td>\n",
              "      <td>3.45</td>\n",
              "      <td>2.93</td>\n",
              "    </tr>\n",
              "    <tr>\n",
              "      <th>proline</th>\n",
              "      <td>1065.00</td>\n",
              "      <td>1050.00</td>\n",
              "      <td>1185.00</td>\n",
              "      <td>1480.00</td>\n",
              "      <td>735.00</td>\n",
              "    </tr>\n",
              "  </tbody>\n",
              "</table>\n",
              "</div>"
            ],
            "text/plain": [
              "                                    0        1        2        3       4\n",
              "alcohol                         14.23    13.20    13.16    14.37   13.24\n",
              "malic_acid                       1.71     1.78     2.36     1.95    2.59\n",
              "ash                              2.43     2.14     2.67     2.50    2.87\n",
              "alcalinity_of_ash               15.60    11.20    18.60    16.80   21.00\n",
              "magnesium                      127.00   100.00   101.00   113.00  118.00\n",
              "total_phenols                    2.80     2.65     2.80     3.85    2.80\n",
              "flavanoids                       3.06     2.76     3.24     3.49    2.69\n",
              "nonflavanoid_phenols             0.28     0.26     0.30     0.24    0.39\n",
              "proanthocyanins                  2.29     1.28     2.81     2.18    1.82\n",
              "color_intensity                  5.64     4.38     5.68     7.80    4.32\n",
              "hue                              1.04     1.05     1.03     0.86    1.04\n",
              "od280/od315_of_diluted_wines     3.92     3.40     3.17     3.45    2.93\n",
              "proline                       1065.00  1050.00  1185.00  1480.00  735.00"
            ]
          },
          "execution_count": 13,
          "metadata": {},
          "output_type": "execute_result"
        }
      ],
      "source": [
        "df.head().T"
      ]
    },
    {
      "cell_type": "code",
      "execution_count": 14,
      "metadata": {},
      "outputs": [
        {
          "data": {
            "text/plain": [
              "(178, 13)"
            ]
          },
          "execution_count": 14,
          "metadata": {},
          "output_type": "execute_result"
        }
      ],
      "source": [
        "df.shape    "
      ]
    },
    {
      "cell_type": "code",
      "execution_count": 17,
      "metadata": {},
      "outputs": [
        {
          "data": {
            "text/html": [
              "<div>\n",
              "<style scoped>\n",
              "    .dataframe tbody tr th:only-of-type {\n",
              "        vertical-align: middle;\n",
              "    }\n",
              "\n",
              "    .dataframe tbody tr th {\n",
              "        vertical-align: top;\n",
              "    }\n",
              "\n",
              "    .dataframe thead th {\n",
              "        text-align: right;\n",
              "    }\n",
              "</style>\n",
              "<table border=\"1\" class=\"dataframe\">\n",
              "  <thead>\n",
              "    <tr style=\"text-align: right;\">\n",
              "      <th></th>\n",
              "      <th>count</th>\n",
              "      <th>mean</th>\n",
              "      <th>std</th>\n",
              "      <th>min</th>\n",
              "      <th>25%</th>\n",
              "      <th>50%</th>\n",
              "      <th>75%</th>\n",
              "      <th>max</th>\n",
              "    </tr>\n",
              "  </thead>\n",
              "  <tbody>\n",
              "    <tr>\n",
              "      <th>alcohol</th>\n",
              "      <td>178.0</td>\n",
              "      <td>13.000618</td>\n",
              "      <td>0.811827</td>\n",
              "      <td>11.03</td>\n",
              "      <td>12.3625</td>\n",
              "      <td>13.050</td>\n",
              "      <td>13.6775</td>\n",
              "      <td>14.83</td>\n",
              "    </tr>\n",
              "    <tr>\n",
              "      <th>malic_acid</th>\n",
              "      <td>178.0</td>\n",
              "      <td>2.336348</td>\n",
              "      <td>1.117146</td>\n",
              "      <td>0.74</td>\n",
              "      <td>1.6025</td>\n",
              "      <td>1.865</td>\n",
              "      <td>3.0825</td>\n",
              "      <td>5.80</td>\n",
              "    </tr>\n",
              "    <tr>\n",
              "      <th>ash</th>\n",
              "      <td>178.0</td>\n",
              "      <td>2.366517</td>\n",
              "      <td>0.274344</td>\n",
              "      <td>1.36</td>\n",
              "      <td>2.2100</td>\n",
              "      <td>2.360</td>\n",
              "      <td>2.5575</td>\n",
              "      <td>3.23</td>\n",
              "    </tr>\n",
              "    <tr>\n",
              "      <th>alcalinity_of_ash</th>\n",
              "      <td>178.0</td>\n",
              "      <td>19.494944</td>\n",
              "      <td>3.339564</td>\n",
              "      <td>10.60</td>\n",
              "      <td>17.2000</td>\n",
              "      <td>19.500</td>\n",
              "      <td>21.5000</td>\n",
              "      <td>30.00</td>\n",
              "    </tr>\n",
              "    <tr>\n",
              "      <th>magnesium</th>\n",
              "      <td>178.0</td>\n",
              "      <td>99.741573</td>\n",
              "      <td>14.282484</td>\n",
              "      <td>70.00</td>\n",
              "      <td>88.0000</td>\n",
              "      <td>98.000</td>\n",
              "      <td>107.0000</td>\n",
              "      <td>162.00</td>\n",
              "    </tr>\n",
              "    <tr>\n",
              "      <th>total_phenols</th>\n",
              "      <td>178.0</td>\n",
              "      <td>2.295112</td>\n",
              "      <td>0.625851</td>\n",
              "      <td>0.98</td>\n",
              "      <td>1.7425</td>\n",
              "      <td>2.355</td>\n",
              "      <td>2.8000</td>\n",
              "      <td>3.88</td>\n",
              "    </tr>\n",
              "    <tr>\n",
              "      <th>flavanoids</th>\n",
              "      <td>178.0</td>\n",
              "      <td>2.029270</td>\n",
              "      <td>0.998859</td>\n",
              "      <td>0.34</td>\n",
              "      <td>1.2050</td>\n",
              "      <td>2.135</td>\n",
              "      <td>2.8750</td>\n",
              "      <td>5.08</td>\n",
              "    </tr>\n",
              "    <tr>\n",
              "      <th>nonflavanoid_phenols</th>\n",
              "      <td>178.0</td>\n",
              "      <td>0.361854</td>\n",
              "      <td>0.124453</td>\n",
              "      <td>0.13</td>\n",
              "      <td>0.2700</td>\n",
              "      <td>0.340</td>\n",
              "      <td>0.4375</td>\n",
              "      <td>0.66</td>\n",
              "    </tr>\n",
              "    <tr>\n",
              "      <th>proanthocyanins</th>\n",
              "      <td>178.0</td>\n",
              "      <td>1.590899</td>\n",
              "      <td>0.572359</td>\n",
              "      <td>0.41</td>\n",
              "      <td>1.2500</td>\n",
              "      <td>1.555</td>\n",
              "      <td>1.9500</td>\n",
              "      <td>3.58</td>\n",
              "    </tr>\n",
              "    <tr>\n",
              "      <th>color_intensity</th>\n",
              "      <td>178.0</td>\n",
              "      <td>5.058090</td>\n",
              "      <td>2.318286</td>\n",
              "      <td>1.28</td>\n",
              "      <td>3.2200</td>\n",
              "      <td>4.690</td>\n",
              "      <td>6.2000</td>\n",
              "      <td>13.00</td>\n",
              "    </tr>\n",
              "    <tr>\n",
              "      <th>hue</th>\n",
              "      <td>178.0</td>\n",
              "      <td>0.957449</td>\n",
              "      <td>0.228572</td>\n",
              "      <td>0.48</td>\n",
              "      <td>0.7825</td>\n",
              "      <td>0.965</td>\n",
              "      <td>1.1200</td>\n",
              "      <td>1.71</td>\n",
              "    </tr>\n",
              "    <tr>\n",
              "      <th>od280/od315_of_diluted_wines</th>\n",
              "      <td>178.0</td>\n",
              "      <td>2.611685</td>\n",
              "      <td>0.709990</td>\n",
              "      <td>1.27</td>\n",
              "      <td>1.9375</td>\n",
              "      <td>2.780</td>\n",
              "      <td>3.1700</td>\n",
              "      <td>4.00</td>\n",
              "    </tr>\n",
              "    <tr>\n",
              "      <th>proline</th>\n",
              "      <td>178.0</td>\n",
              "      <td>746.893258</td>\n",
              "      <td>314.907474</td>\n",
              "      <td>278.00</td>\n",
              "      <td>500.5000</td>\n",
              "      <td>673.500</td>\n",
              "      <td>985.0000</td>\n",
              "      <td>1680.00</td>\n",
              "    </tr>\n",
              "  </tbody>\n",
              "</table>\n",
              "</div>"
            ],
            "text/plain": [
              "                              count        mean         std     min       25%  \\\n",
              "alcohol                       178.0   13.000618    0.811827   11.03   12.3625   \n",
              "malic_acid                    178.0    2.336348    1.117146    0.74    1.6025   \n",
              "ash                           178.0    2.366517    0.274344    1.36    2.2100   \n",
              "alcalinity_of_ash             178.0   19.494944    3.339564   10.60   17.2000   \n",
              "magnesium                     178.0   99.741573   14.282484   70.00   88.0000   \n",
              "total_phenols                 178.0    2.295112    0.625851    0.98    1.7425   \n",
              "flavanoids                    178.0    2.029270    0.998859    0.34    1.2050   \n",
              "nonflavanoid_phenols          178.0    0.361854    0.124453    0.13    0.2700   \n",
              "proanthocyanins               178.0    1.590899    0.572359    0.41    1.2500   \n",
              "color_intensity               178.0    5.058090    2.318286    1.28    3.2200   \n",
              "hue                           178.0    0.957449    0.228572    0.48    0.7825   \n",
              "od280/od315_of_diluted_wines  178.0    2.611685    0.709990    1.27    1.9375   \n",
              "proline                       178.0  746.893258  314.907474  278.00  500.5000   \n",
              "\n",
              "                                  50%       75%      max  \n",
              "alcohol                        13.050   13.6775    14.83  \n",
              "malic_acid                      1.865    3.0825     5.80  \n",
              "ash                             2.360    2.5575     3.23  \n",
              "alcalinity_of_ash              19.500   21.5000    30.00  \n",
              "magnesium                      98.000  107.0000   162.00  \n",
              "total_phenols                   2.355    2.8000     3.88  \n",
              "flavanoids                      2.135    2.8750     5.08  \n",
              "nonflavanoid_phenols            0.340    0.4375     0.66  \n",
              "proanthocyanins                 1.555    1.9500     3.58  \n",
              "color_intensity                 4.690    6.2000    13.00  \n",
              "hue                             0.965    1.1200     1.71  \n",
              "od280/od315_of_diluted_wines    2.780    3.1700     4.00  \n",
              "proline                       673.500  985.0000  1680.00  "
            ]
          },
          "execution_count": 17,
          "metadata": {},
          "output_type": "execute_result"
        }
      ],
      "source": [
        "df.describe().T"
      ]
    },
    {
      "cell_type": "code",
      "execution_count": 18,
      "metadata": {},
      "outputs": [
        {
          "name": "stdout",
          "output_type": "stream",
          "text": [
            "alcohol                         0\n",
            "malic_acid                      0\n",
            "ash                             0\n",
            "alcalinity_of_ash               0\n",
            "magnesium                       0\n",
            "total_phenols                   0\n",
            "flavanoids                      0\n",
            "nonflavanoid_phenols            0\n",
            "proanthocyanins                 0\n",
            "color_intensity                 0\n",
            "hue                             0\n",
            "od280/od315_of_diluted_wines    0\n",
            "proline                         0\n",
            "dtype: int64\n"
          ]
        }
      ],
      "source": [
        "print(df.isna().sum())"
      ]
    },
    {
      "cell_type": "code",
      "execution_count": 10,
      "metadata": {},
      "outputs": [
        {
          "data": {
            "image/png": "[encoded data removed]",
            "text/plain": [
              "<Figure size 800x600 with 1 Axes>"
            ]
          },
          "metadata": {},
          "output_type": "display_data"
        }
      ],
      "source": [
        "X = wine.data\n",
        "y = wine.target\n",
        "feature_names = wine.feature_names\n",
        "target_names = wine.target_names\n",
        "\n",
        "# Crear DataFrame para facilitar la visualización\n",
        "df = pd.DataFrame(X, columns=feature_names)\n",
        "df[\"target\"] = y\n",
        "\n",
        "# Elegimos 2 variables para graficar (por ejemplo alcohol vs color_intensity)\n",
        "x_var = \"alcohol\"\n",
        "y_var = \"color_intensity\"\n",
        "\n",
        "# Colores y clases\n",
        "colors = ['red', 'green', 'blue']\n",
        "labels = target_names\n",
        "\n",
        "# Crear scatter plot\n",
        "plt.figure(figsize=(8,6))\n",
        "for i, color in enumerate(colors):\n",
        "    subset = df[df[\"target\"] == i]\n",
        "    plt.scatter(subset[x_var], subset[y_var], c=color, label=labels[i], alpha=0.6, edgecolors='k')\n",
        "\n",
        "plt.xlabel(x_var.capitalize())\n",
        "plt.ylabel(y_var.replace('_', ' ').capitalize())\n",
        "plt.title(\"Scatter Plot del Wine Dataset\")\n",
        "plt.legend(title=\"Clase de vino\")\n",
        "plt.grid(True)\n",
        "plt.show()\n"
      ]
    },
    {
      "cell_type": "markdown",
      "metadata": {},
      "source": [
        " ### *Informacion que tenemos de Wine*\n",
        "- 📌 *Tipo problema: Clasificación multiclase*\n",
        "- 🍷 *Clases: 3 tipos de vino cultivado en Italia ->'target_names': array(['class_0', 'class_1', 'class_2']*\n",
        "- 🔍 *Features: 13 características químicas (alcohol, color, fenoles, etc.)*\n",
        "-  🏅*Sin datos faltantes*\n",
        "-  🧪*Muestras: 178*\n",
        "  \n",
        "---"
      ]
    },
    {
      "cell_type": "markdown",
      "metadata": {},
      "source": [
        "### *2da Parte: Preprocesado, Entrenamiento y Evaluacion:*\n",
        "\n",
        "*dado un modelo de clasificación multiclase. El objetivo es predecir el tipo de vino (tres clases) a partir de 13 características químicas obtenidas en laboratorio.*\n",
        "\n",
        "1. ⚙️***Preprocesado***: \n",
        "   - *Se estandarizan las variables numéricas mediante StandardScaler, ya que los modelos basados en distancia (como SVM o k-NN) y muchos clasificadores se benefician de datos con media 0 y varianza 1.*\n",
        "   - *Se divide el conjunto en datos de entrenamiento y prueba utilizando train_test_split.*\n",
        "  \n",
        "2. 🧠 ***Entrenamiento***:\n",
        "   1. *Se entrena un modelo de clasificación (por ejemplo, RandomForestClassifier) utilizando las variables escaladas.*\n",
        "   2. *El modelo se ajusta con los datos de entrenamiento (fit) y se utiliza para realizar predicciones sobre los datos de prueba (predict).*\n",
        "\n",
        "3. 📊 ***Evaluación***:\n",
        "   - *Se calcula un reporte de clasificación con métricas clave: precision, recall, f1-score y support para cada clase.*\n",
        "   - *Se visualiza la matriz de confusión para entender mejor el desempeño del modelo, evaluando los errores y aciertos en la predicción de cada tipo de vino.*\n",
        "\n",
        "💡 *Esta sección sienta las bases para la siguiente etapa: el despliegue del modelo, en la que se convertirá el clasificador en una API lista para producción.*\n",
        "\n",
        "---"
      ]
    },
    {
      "cell_type": "code",
      "execution_count": 19,
      "metadata": {},
      "outputs": [
        {
          "name": "stdout",
          "output_type": "stream",
          "text": [
            "✅Datos entrenamiento:  (142, 13)\n",
            "✅Datos test:  (36, 13)\n"
          ]
        }
      ],
      "source": [
        "# Cargar datos\n",
        "wine = load_wine()\n",
        "X = wine.data\n",
        "y = wine.target\n",
        "feature_names = wine.feature_names\n",
        "target_names = wine.target_names\n",
        "\n",
        "# Dividir en train/test\n",
        "X_train, X_test, y_train, y_test = train_test_split(X, y, test_size=0.2, random_state=42)\n",
        "\n",
        "# Estandarizar\n",
        "scaler = StandardScaler()\n",
        "X_train = scaler.fit_transform(X_train)\n",
        "X_test = scaler.transform(X_test)\n",
        "\n",
        "print('✅Datos entrenamiento: ', X_train.shape)\n",
        "print('✅Datos test: ', X_test.shape)\n"
      ]
    },
    {
      "cell_type": "markdown",
      "metadata": {},
      "source": [
        "### *Justificantes:*\n",
        "* *Cargamos y utilizamos el Dataset en su forma original (como array NumPy) porque:*\n",
        "* *Más ligero y directo para entrenar modelos con scikit-learn*\n",
        "* *Perfecto para scripts o pipelines rápidos*\n",
        "* *No requiere conversión ni overhead adicional*\n",
        "* *Ideal para la fase de entrenamiento y despliegue*"
      ]
    },
    {
      "cell_type": "code",
      "execution_count": null,
      "metadata": {},
      "outputs": [
        {
          "name": "stdout",
          "output_type": "stream",
          "text": [
            "              precision    recall  f1-score   support\n",
            "\n",
            "     class_0       1.00      1.00      1.00        14\n",
            "     class_1       1.00      1.00      1.00        14\n",
            "     class_2       1.00      1.00      1.00         8\n",
            "\n",
            "    accuracy                           1.00        36\n",
            "   macro avg       1.00      1.00      1.00        36\n",
            "weighted avg       1.00      1.00      1.00        36\n",
            "\n"
          ]
        }
      ],
      "source": [
        "from sklearn.metrics import classification_report\n",
        "\n",
        "clf = RandomForestClassifier(random_state=42)\n",
        "clf.fit(X_train, y_train)\n",
        "\n",
        "y_pred = clf.predict(X_test)\n",
        "\n",
        "print(classification_report(y_test, y_pred, target_names=target_names))"
      ]
    },
    {
      "cell_type": "code",
      "execution_count": 24,
      "metadata": {},
      "outputs": [
        {
          "data": {
            "image/png": "[encoded data removed]",
            "text/plain": [
              "<Figure size 640x480 with 2 Axes>"
            ]
          },
          "metadata": {},
          "output_type": "display_data"
        }
      ],
      "source": [
        "from sklearn.metrics import confusion_matrix, ConfusionMatrixDisplay\n",
        "# Generar la matriz\n",
        "cm = confusion_matrix(y_test, y_pred)\n",
        "disp = ConfusionMatrixDisplay(confusion_matrix=cm, display_labels=target_names)\n",
        "\n",
        "# Mostrarla\n",
        "disp.plot(cmap=plt.cm.Blues)\n",
        "plt.title(\"Confusion Matrix - Wine Classifier\")\n",
        "plt.show()"
      ]
    },
    {
      "cell_type": "code",
      "execution_count": null,
      "metadata": {},
      "outputs": [
        {
          "data": {
            "text/plain": [
              "['wine_scaler.pkl']"
            ]
          },
          "execution_count": 25,
          "metadata": {},
          "output_type": "execute_result"
        }
      ],
      "source": [
        "# Guardar modelo\n",
        "import joblib\n",
        "\n",
        "joblib.dump(clf, 'wine_model_multiclass.pkl')\n",
        "joblib.dump(scaler, 'wine_scaler.pkl')"
      ]
    },
    {
      "cell_type": "code",
      "execution_count": null,
      "metadata": {},
      "outputs": [
        {
          "name": "stdout",
          "output_type": "stream",
          "text": [
            "📁 Working directory: c:\\Users\\oridi\\Desktop\\Programacion\\MLOPs\\mlops-main\n"
          ]
        }
      ],
      "source": [
        "# donde estan nuestros archivos?\n",
        "import os\n",
        "print(\"📁 Working directory:\", os.getcwd())"
      ]
    },
    {
      "cell_type": "markdown",
      "metadata": {},
      "source": [
        "---\n"
      ]
    },
    {
      "cell_type": "markdown",
      "metadata": {},
      "source": [
        "### 📦 *Resumen del flujo de trabajo*\n",
        "1. ***Entrenamiento (main.py)*** \n",
        "   - *Carga y escala de los datos*\n",
        "   - *Entrena un modelo*\n",
        "   - *Guarda modelo y scaler en .pkl*\n",
        "\n",
        "2. ***utils.py*** \n",
        "   - *Contiene funciones reutilizables (evaluación, etc.)*\n",
        "\n",
        "3. ***API (main_api.py o main.py en FastAPI)*** \n",
        "   - *Cargar los archivos .pkl*\n",
        "   - *Ofrecer una ruta para recibir nuevos datos y predecir*\n",
        "\n",
        "4. ***Despliegue (local o nube)*** \n",
        "   - *Ejecutar la API y poder usarla desde navegador, web, app, etc.*\n",
        "\n",
        "---\n"
      ]
    },
    {
      "cell_type": "code",
      "execution_count": null,
      "metadata": {},
      "outputs": [],
      "source": []
    },
    {
      "cell_type": "markdown",
      "metadata": {},
      "source": [
        "## Práctica parte FastAPI"
      ]
    },
    {
      "cell_type": "markdown",
      "metadata": {},
      "source": [
        "### Para esta parte de la práctica teneis que generar un script con al menos 5 modulos app.get y dos de ellos tienen que ser pipelines de HF. \n",
        "\n",
        "### Parte de la practica se tendra que entregar en capturas de pantalla. Las capturas de pantalla a adjuntas son las siguientes. \n",
        "\n",
        "### 1. Captura de la pantalla docs con al menos 5 modulos. \n",
        "### 2. Captura de cada una de los modulos con la respuesta dentro de docs. \n",
        "### 3. Captura de cada uno de los modulos en la llamada https.\n",
        "### 4. Todo el codigo usado durante el proceso. Notebooks y scripts.\n",
        "\n",
        "### Opcional\n",
        "\n",
        "### 5. Despliegue del script en GCP Cloud Run"
      ]
    },
    {
      "cell_type": "code",
      "execution_count": null,
      "metadata": {},
      "outputs": [],
      "source": [
        "# instalaciones previas desde el shell\n",
        "\n",
        "pip install fastapi uvicorn transformers\n",
        "pip install torch"
      ]
    },
    {
      "cell_type": "code",
      "execution_count": null,
      "metadata": {},
      "outputs": [],
      "source": [
        "# Navegamos a nuestro directorio donde tenemos los scripts y podemos desplegar FasTAPI\n",
        "uvicorn main_hf_api:app --reload\n"
      ]
    },
    {
      "cell_type": "markdown",
      "metadata": {},
      "source": [
        "`cd ruta/a/carpeta`"
      ]
    }
  ],
  "metadata": {
    "accelerator": "GPU",
    "colab": {
      "provenance": []
    },
    "kernelspec": {
      "display_name": "Python 3",
      "name": "python3"
    },
    "language_info": {
      "codemirror_mode": {
        "name": "ipython",
        "version": 3
      },
      "file_extension": ".py",
      "mimetype": "text/x-python",
      "name": "python",
      "nbconvert_exporter": "python",
      "pygments_lexer": "ipython3",
      "version": "3.13.0"
    }
  },
  "nbformat": 4,
  "nbformat_minor": 0
}
